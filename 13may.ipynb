{
 "cells": [
  {
   "cell_type": "code",
   "execution_count": 2,
   "id": "f0ff47c1-6543-4356-b3f2-a1776213bf0a",
   "metadata": {},
   "outputs": [],
   "source": [
    "mylist=[10,20,'hello']\n",
    "mylist[0:3]\n",
    "mylist.extend(['yash'])"
   ]
  },
  {
   "cell_type": "code",
   "execution_count": 4,
   "id": "057e718c-321b-4727-a36b-b7ace2d4971d",
   "metadata": {},
   "outputs": [
    {
     "name": "stdout",
     "output_type": "stream",
     "text": [
      "[10, 20, 'hello', 'yash', 'yash', 'yash']\n"
     ]
    }
   ],
   "source": [
    "mylist.extend(['yash'])\n",
    "print(mylist)"
   ]
  },
  {
   "cell_type": "code",
   "execution_count": 2,
   "id": "6bc7ec06-d382-4e4c-b87d-8420107cb2a2",
   "metadata": {},
   "outputs": [],
   "source": [
    "mylist[0]=100"
   ]
  },
  {
   "cell_type": "code",
   "execution_count": 3,
   "id": "3f392981-580b-4724-831d-83a4b0f25be8",
   "metadata": {},
   "outputs": [
    {
     "name": "stdout",
     "output_type": "stream",
     "text": [
      "[100, 20, 'hello']\n"
     ]
    }
   ],
   "source": [
    "print(mylist)"
   ]
  },
  {
   "cell_type": "code",
   "execution_count": 5,
   "id": "78eb6f87-3c69-4d9d-a169-4ef53f20a39c",
   "metadata": {},
   "outputs": [
    {
     "name": "stdout",
     "output_type": "stream",
     "text": [
      "[10, 20, 'hello', 'yash', 'yash', 'yash']\n"
     ]
    }
   ],
   "source": [
    "print(mylist)"
   ]
  },
  {
   "cell_type": "code",
   "execution_count": 6,
   "id": "8d6e66ce-c5c2-4a0f-9bb9-42aa3bd95bc2",
   "metadata": {},
   "outputs": [
    {
     "data": {
      "text/plain": [
       "'yash'"
      ]
     },
     "execution_count": 6,
     "metadata": {},
     "output_type": "execute_result"
    }
   ],
   "source": [
    "mylist.pop()"
   ]
  },
  {
   "cell_type": "code",
   "execution_count": 7,
   "id": "470e5747-6bd0-4370-879f-9c107509e307",
   "metadata": {},
   "outputs": [
    {
     "data": {
      "text/plain": [
       "'yash'"
      ]
     },
     "execution_count": 7,
     "metadata": {},
     "output_type": "execute_result"
    }
   ],
   "source": [
    "mylist.pop()"
   ]
  },
  {
   "cell_type": "code",
   "execution_count": 8,
   "id": "66532473-4b04-4fa8-906c-a8068f9fdf09",
   "metadata": {},
   "outputs": [
    {
     "name": "stdout",
     "output_type": "stream",
     "text": [
      "\f\n",
      "\n"
     ]
    }
   ],
   "source": [
    "clear()"
   ]
  },
  {
   "cell_type": "code",
   "execution_count": 9,
   "id": "b1edb938-1404-4d07-aaa4-7a828384235f",
   "metadata": {},
   "outputs": [
    {
     "data": {
      "text/plain": [
       "[10, 20, 'hello', 'yash']"
      ]
     },
     "execution_count": 9,
     "metadata": {},
     "output_type": "execute_result"
    }
   ],
   "source": [
    "mylist"
   ]
  },
  {
   "cell_type": "code",
   "execution_count": null,
   "id": "cefc1fc5-4f92-4f47-85ba-95504d0b903b",
   "metadata": {},
   "outputs": [],
   "source": [
    "'''run a for loop and get their squares if integer and append a new list'''"
   ]
  },
  {
   "cell_type": "code",
   "execution_count": 19,
   "id": "2672893c-7636-48f6-add6-b0452d195097",
   "metadata": {},
   "outputs": [
    {
     "name": "stdout",
     "output_type": "stream",
     "text": [
      "[1, 16, 25, 100]\n"
     ]
    }
   ],
   "source": [
    "list=[1,2.3,4,5,9.9,10]\n",
    "newlist=[]\n",
    "for i in list:\n",
    "    if (type(i) is int):\n",
    "        newlist.append(i**2)\n",
    "print(newlist)"
   ]
  },
  {
   "cell_type": "code",
   "execution_count": 21,
   "id": "a3407894-4081-45e0-9fca-e80b8793a201",
   "metadata": {},
   "outputs": [
    {
     "name": "stdout",
     "output_type": "stream",
     "text": [
      "['lh', 'hy']\n"
     ]
    }
   ],
   "source": [
    "'''make a list check if the element is of string data type then o and -1 index add and append to new list'''\n",
    "list=[\"lavish\",12,\"harry\"]\n",
    "newlist=[]\n",
    "for i in list:\n",
    "    if(type(i) is str):\n",
    "        newlist.append(i[0]+i[-1])\n",
    "print(newlist)\n",
    "\n"
   ]
  },
  {
   "cell_type": "code",
   "execution_count": null,
   "id": "a04205d4-30ec-41aa-9d64-064c8467d2c9",
   "metadata": {},
   "outputs": [],
   "source": []
  }
 ],
 "metadata": {
  "kernelspec": {
   "display_name": "Python 3 (ipykernel)",
   "language": "python",
   "name": "python3"
  },
  "language_info": {
   "codemirror_mode": {
    "name": "ipython",
    "version": 3
   },
   "file_extension": ".py",
   "mimetype": "text/x-python",
   "name": "python",
   "nbconvert_exporter": "python",
   "pygments_lexer": "ipython3",
   "version": "3.10.4"
  }
 },
 "nbformat": 4,
 "nbformat_minor": 5
}
