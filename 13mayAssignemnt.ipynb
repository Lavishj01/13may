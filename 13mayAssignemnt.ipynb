{
 "cells": [
  {
   "cell_type": "code",
   "execution_count": 2,
   "id": "86fcc369-6f97-435a-b57e-707a97884582",
   "metadata": {},
   "outputs": [
    {
     "name": "stdout",
     "output_type": "stream",
     "text": [
      "Hello,Lavish\n"
     ]
    }
   ],
   "source": [
    "var='Lavish'\n",
    "print(f\"Hello,{var}\")"
   ]
  },
  {
   "cell_type": "code",
   "execution_count": 5,
   "id": "c6cf1922-e790-4c48-a4b4-2ff03200dba4",
   "metadata": {},
   "outputs": [
    {
     "name": "stdin",
     "output_type": "stream",
     "text": [
      "Enter number1:  -1\n",
      "Enter  number2:  -4\n"
     ]
    },
    {
     "name": "stdout",
     "output_type": "stream",
     "text": [
      "Sum is Negative\n"
     ]
    }
   ],
   "source": [
    "n1=int(input(\"Enter number1: \"))\n",
    "n2=int(input(\"Enter  number2: \"))\n",
    "n3=n1+n2\n",
    "if(n3>0):\n",
    "    print(\"Sum is positive\")\n",
    "else:\n",
    "    print(\"Sum is Negative\")\n"
   ]
  },
  {
   "cell_type": "code",
   "execution_count": 8,
   "id": "a5729ad5-0f53-4e51-a820-cf68ee4895b7",
   "metadata": {},
   "outputs": [
    {
     "name": "stdin",
     "output_type": "stream",
     "text": [
      "Enter the Number:  1234\n"
     ]
    },
    {
     "name": "stdout",
     "output_type": "stream",
     "text": [
      "Correct Number\n"
     ]
    }
   ],
   "source": [
    "Num=1234\n",
    "user=int(input(\"Enter the Number: \"))\n",
    "if(user==Num):\n",
    "    print(\"Correct Number\")\n",
    "else:\n",
    "    print(\"Enter number correctly\")"
   ]
  },
  {
   "cell_type": "code",
   "execution_count": 9,
   "id": "f2f826bc-6a41-4fdd-a548-dafa9461b110",
   "metadata": {},
   "outputs": [
    {
     "data": {
      "text/plain": [
       "'LavishJain'"
      ]
     },
     "execution_count": 9,
     "metadata": {},
     "output_type": "execute_result"
    }
   ],
   "source": [
    "firstname=\"Lavish\"\n",
    "lastname=\"Jain\"\n",
    "wholename=firstname+lastname\n",
    "wholename"
   ]
  },
  {
   "cell_type": "code",
   "execution_count": 10,
   "id": "71585f64-b499-4e91-968a-583a9a75b0b6",
   "metadata": {},
   "outputs": [
    {
     "name": "stdin",
     "output_type": "stream",
     "text": [
      "Enter a string LoweR\n"
     ]
    },
    {
     "name": "stdout",
     "output_type": "stream",
     "text": [
      "lOWEr\n"
     ]
    }
   ],
   "source": [
    "user=input(\"Enter a string\")\n",
    "output=''\n",
    "for i in user:\n",
    "    if(i.islower()):\n",
    "        output+=i.upper()\n",
    "    else:\n",
    "        output+=i.lower()\n",
    "print(output)\n"
   ]
  },
  {
   "cell_type": "code",
   "execution_count": 3,
   "id": "8109799d-289b-40d3-aaab-03f6924a4ed1",
   "metadata": {},
   "outputs": [
    {
     "name": "stdout",
     "output_type": "stream",
     "text": [
      "15 120\n"
     ]
    }
   ],
   "source": [
    "list=[1,2,3,4,5]\n",
    "sum=0\n",
    "mul=1\n",
    "for i in list:\n",
    "    sum+=i\n",
    "for i in list:\n",
    "    mul*=i\n",
    "print(sum,end=\" \")\n",
    "print(mul)"
   ]
  },
  {
   "cell_type": "code",
   "execution_count": 19,
   "id": "3fbcea99-0294-4edc-8cd4-dfd9e7238ad2",
   "metadata": {},
   "outputs": [
    {
     "name": "stdin",
     "output_type": "stream",
     "text": [
      "Enter value to search:  1\n"
     ]
    },
    {
     "name": "stdout",
     "output_type": "stream",
     "text": [
      "True\n"
     ]
    }
   ],
   "source": [
    "x=input(\"Enter value to search: \")\n",
    "a=[1,2,\"x\",\"a\",3,4,\"i\"]\n",
    "result=False\n",
    "for i in a:\n",
    "    if(str(i)==x):\n",
    "        result=True\n",
    "        break\n",
    "print(result)"
   ]
  },
  {
   "cell_type": "code",
   "execution_count": 21,
   "id": "a60256b9-9f43-4151-b255-a991a1211463",
   "metadata": {},
   "outputs": [
    {
     "name": "stdout",
     "output_type": "stream",
     "text": [
      "False\n"
     ]
    }
   ],
   "source": [
    "list1=[1,2,3,4]\n",
    "list2=[5,6,7]\n",
    "common=False\n",
    "for i in list1:\n",
    "    for j in list2:\n",
    "        if(i==j):\n",
    "            common=True\n",
    "print(common)"
   ]
  },
  {
   "cell_type": "code",
   "execution_count": 22,
   "id": "62a856be-d933-4589-9c71-2f55b0741cfd",
   "metadata": {},
   "outputs": [
    {
     "name": "stdout",
     "output_type": "stream",
     "text": [
      "*\n",
      "**\n",
      "***\n"
     ]
    }
   ],
   "source": [
    "histogram=[1,2,3]\n",
    "for i in histogram:\n",
    "    print(\"*\"*i)\n"
   ]
  },
  {
   "cell_type": "code",
   "execution_count": 30,
   "id": "0f9a69e9-b38b-4c59-95e2-fe7adf4caaac",
   "metadata": {},
   "outputs": [],
   "source": [
    "hundred_meters = ['Vikay','John','Kumar','Rajesh','Malar','Vaihai']\n",
    "two_hundred_meters = ['Vetry','Petter','Priyanka','Kumar','Malar']\n",
    "only100=[]\n",
    "for i in hundred_meters:\n",
    "    for j in two_hundred_meters:\n",
    "        if(i != j):\n",
    "            only100.append(i)\n",
    "\n",
    "            \n"
   ]
  },
  {
   "cell_type": "code",
   "execution_count": 32,
   "id": "5856c706-08ac-42ab-8d94-7e2a265314cc",
   "metadata": {},
   "outputs": [],
   "source": [
    "List = [5, 8,4,18,8,55,6,8,3,18,5,3,44]\n",
    "for i in list:\n",
    "    if(i==i-1):\n",
    "        print(i)"
   ]
  },
  {
   "cell_type": "code",
   "execution_count": 39,
   "id": "2127256b-7cc8-4bc0-be22-8cf9a44c9096",
   "metadata": {},
   "outputs": [
    {
     "name": "stdout",
     "output_type": "stream",
     "text": [
      "['crocodile', 'zebra', 'lion', 'tiger', 'cat']\n"
     ]
    }
   ],
   "source": [
    "List = [\"cat\",\"tiger\",\"lion\", \"zebra\" , \"crocodile\", \"snack\"]\n",
    "newlist=[]\n",
    "for i in range(4,-1,-1):\n",
    "    newlist.append(List[i])\n",
    "print(newlist)"
   ]
  },
  {
   "cell_type": "code",
   "execution_count": null,
   "id": "1b2432b6-03a2-472f-82a0-c157bb5422be",
   "metadata": {},
   "outputs": [],
   "source": []
  }
 ],
 "metadata": {
  "kernelspec": {
   "display_name": "Python 3 (ipykernel)",
   "language": "python",
   "name": "python3"
  },
  "language_info": {
   "codemirror_mode": {
    "name": "ipython",
    "version": 3
   },
   "file_extension": ".py",
   "mimetype": "text/x-python",
   "name": "python",
   "nbconvert_exporter": "python",
   "pygments_lexer": "ipython3",
   "version": "3.10.4"
  }
 },
 "nbformat": 4,
 "nbformat_minor": 5
}
